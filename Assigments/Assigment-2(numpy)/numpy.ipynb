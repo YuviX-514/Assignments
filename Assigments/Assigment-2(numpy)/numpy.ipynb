{
 "cells": [
  {
   "cell_type": "markdown",
   "id": "ada47e62",
   "metadata": {},
   "source": [
    "Part-I Numpy Questions\n",
    "Objective:\n",
    "To build a strong foundation in using NumPy for numerical computations,\n",
    "including creating arrays, performing operations, and leveraging its\n",
    "powerful functionalities."
   ]
  },
  {
   "cell_type": "markdown",
   "id": "00a3566b",
   "metadata": {},
   "source": [
    "Task 1: Creating Arrays\n",
    "1. Write a Python program to:\n",
    "--> Create a 1D NumPy array of 10 integers ranging from 1 to 10.\n",
    "--> Create a 2D NumPy array of shape (3, 3) with integers from 1 to 9.\n",
    "--> Create a 3D NumPy array with random floating-point numbers of shape (3, 5, 3).\n",
    "2. Display the shape, size, and datatype of each array"
   ]
  },
  {
   "cell_type": "code",
   "execution_count": 7,
   "id": "a0831d25",
   "metadata": {},
   "outputs": [
    {
     "name": "stdout",
     "output_type": "stream",
     "text": [
      "(10,)\n",
      "10\n",
      "<class 'numpy.ndarray'>\n"
     ]
    },
    {
     "data": {
      "text/plain": [
       "array([1, 3, 6, 3, 9, 6, 4, 9, 3, 9], dtype=int32)"
      ]
     },
     "execution_count": 7,
     "metadata": {},
     "output_type": "execute_result"
    }
   ],
   "source": [
    "import numpy as np\n",
    "l1=np.random.randint(1,11,10)\n",
    "print(l1.shape)\n",
    "print(l1.size)\n",
    "print(type(l1))\n",
    "l1\n"
   ]
  },
  {
   "cell_type": "code",
   "execution_count": 9,
   "id": "fc5f9601",
   "metadata": {},
   "outputs": [
    {
     "name": "stdout",
     "output_type": "stream",
     "text": [
      "(3, 3)\n",
      "9\n",
      "<class 'numpy.ndarray'>\n"
     ]
    },
    {
     "data": {
      "text/plain": [
       "array([[2, 8, 5],\n",
       "       [1, 5, 4],\n",
       "       [8, 5, 7]], dtype=int32)"
      ]
     },
     "execution_count": 9,
     "metadata": {},
     "output_type": "execute_result"
    }
   ],
   "source": [
    "import numpy as np\n",
    "l2=np.random.randint(1,10,9).reshape(3,3)\n",
    "print(l2.shape)\n",
    "print(l2.size)\n",
    "print(type(l2))\n",
    "l2"
   ]
  },
  {
   "cell_type": "code",
   "execution_count": 13,
   "id": "a73db22f",
   "metadata": {},
   "outputs": [
    {
     "name": "stdout",
     "output_type": "stream",
     "text": [
      "(3, 5, 3)\n",
      "45\n",
      "<class 'numpy.ndarray'>\n"
     ]
    },
    {
     "data": {
      "text/plain": [
       "array([[[0.20944813, 0.1141704 , 0.33900474],\n",
       "        [0.54156809, 0.77270845, 0.45054271],\n",
       "        [0.39776692, 0.1799548 , 0.05853813],\n",
       "        [0.63438989, 0.41184282, 0.40815208],\n",
       "        [0.76736878, 0.49996463, 0.94202117]],\n",
       "\n",
       "       [[0.4741844 , 0.70248061, 0.2414695 ],\n",
       "        [0.59260942, 0.69936831, 0.49976674],\n",
       "        [0.85876242, 0.18048776, 0.09070577],\n",
       "        [0.83280531, 0.01062013, 0.60703839],\n",
       "        [0.46561512, 0.44748443, 0.06638304]],\n",
       "\n",
       "       [[0.61275257, 0.28598363, 0.72974437],\n",
       "        [0.12026133, 0.31520549, 0.36639818],\n",
       "        [0.18758917, 0.38782425, 0.19296345],\n",
       "        [0.50659899, 0.13068912, 0.17745502],\n",
       "        [0.54281253, 0.74151839, 0.32675268]]])"
      ]
     },
     "execution_count": 13,
     "metadata": {},
     "output_type": "execute_result"
    }
   ],
   "source": [
    "import numpy as np\n",
    "l3=np.random.rand(3,5,3)\n",
    "print(l3.shape)\n",
    "print(l3.size)\n",
    "print(type(l3))\n",
    "l3"
   ]
  },
  {
   "cell_type": "markdown",
   "id": "64614b90",
   "metadata": {},
   "source": [
    "Task 2: Array Indexing and Slicing:-\n",
    "\n",
    "1. Create a NumPy array from the following list:\n",
    "-->data = [10, 20, 30, 40, 50, 60, 70, 80, 90]\n",
    "2. Write a Python program to:\n",
    "-->Retrieve the first three elements of the array.\n",
    "-->Retrieve every alternate element of the array.\n",
    "-->Reverse the array.\n",
    "3. Perform the above operations and display the results"
   ]
  },
  {
   "cell_type": "code",
   "execution_count": 1,
   "id": "6605d02f",
   "metadata": {},
   "outputs": [
    {
     "name": "stdout",
     "output_type": "stream",
     "text": [
      "[1 2 3]\n",
      "[1 3 5 7 9]\n",
      "[10  9  8  7  6  5  4  3  2  1]\n"
     ]
    }
   ],
   "source": [
    "import numpy as np\n",
    "data = [1, 2, 3, 4, 5, 6, 7, 8, 9, 10]\n",
    "l1=np.array(data)\n",
    "print(l1[0:3])\n",
    "print(l1[::2])\n",
    "print(l1[::-1])\n"
   ]
  },
  {
   "cell_type": "markdown",
   "id": "c400304b",
   "metadata": {},
   "source": [
    "Task 3: Mathematical Operations:-\n",
    "1. Create two NumPy arrays, A and B, each with 5 random integers between 1 and 20.\n",
    "\n",
    "2. Write a Python program to:-\n",
    "\n",
    "--> Add, subtract, multiply, and divide the two arrays element-wise.\n",
    "--> Compute the dot product of the arrays.\n",
    "--> Find the mean, median, standard deviation, and variance o--> array A.\n",
    "--> Identify the maximum and minimum values in array B and their indices"
   ]
  },
  {
   "cell_type": "code",
   "execution_count": 2,
   "id": "612761c8",
   "metadata": {},
   "outputs": [
    {
     "name": "stdout",
     "output_type": "stream",
     "text": [
      "[ 4  4  9 19 18  6  6 16  6  4]\n",
      "[ 6  6 12  6 15  8 12  8  4 18]\n",
      "Addition : [10 10 21 25 33 14 18 24 10 22]\n",
      "Subtraction : [ -2  -2  -3  13   3  -2  -6   8   2 -14]\n",
      "Multiplication : [ 24  24 108 114 270  48  72 128  24  72]\n",
      "Division: [0.66666667 0.66666667 0.75       3.16666667 1.2        0.75\n",
      " 0.5        2.         1.5        0.22222222]\n"
     ]
    }
   ],
   "source": [
    "# Add, subtract, multiply, and divide the two arrays element-wise.\n",
    "import numpy as np\n",
    "A=np.random.randint(2, 20, 10)\n",
    "B=np.random.randint(2,20,10)\n",
    "print(A)\n",
    "print(B)\n",
    "add=A+B\n",
    "sub=A-B\n",
    "mul=A*B\n",
    "div=A/B\n",
    "print(\"Addition :\",add)\n",
    "print(\"Subtraction :\",sub)\n",
    "print(\"Multiplication :\",mul)\n",
    "print(\"Division:\",div)"
   ]
  },
  {
   "cell_type": "code",
   "execution_count": 3,
   "id": "d85eed87",
   "metadata": {},
   "outputs": [
    {
     "name": "stdout",
     "output_type": "stream",
     "text": [
      "[18 12  3 11  3 18 19 15  4 11]\n",
      "[14  2 19  5  7  2 13  3  2  2]\n",
      "767\n"
     ]
    }
   ],
   "source": [
    "# Compute the dot product of the arrays.\n",
    "A=np.random.randint(2,20,10)\n",
    "B=np.random.randint(2,20,10)\n",
    "print(A)\n",
    "print(B)\n",
    "dot_product = np.dot(A, B)\n",
    "# Or alternatively:\n",
    "# dot_product = A @ B\n",
    "print(dot_product)\n"
   ]
  },
  {
   "cell_type": "code",
   "execution_count": 4,
   "id": "041114a3",
   "metadata": {},
   "outputs": [
    {
     "name": "stdout",
     "output_type": "stream",
     "text": [
      "[ 2 14 19  2  5  7 10  4  3 17]\n",
      "Mean : 8.3\n",
      "Median : 6.0\n",
      "Standard deviation : 6.034069936618237\n",
      "Varience : 36.41000000000001\n"
     ]
    }
   ],
   "source": [
    "# Find the mean, median, standard deviation, and variance o--> array A.\n",
    "A=np.random.randint(2,20,10)\n",
    "B=np.random.randint(2,20,10)\n",
    "print(A)\n",
    "print(\"Mean :\",np.mean(A))\n",
    "print(\"Median :\",np.median(A))\n",
    "print(\"Standard deviation :\",np.std(A))\n",
    "print(\"Varience :\",np.var(A))\n"
   ]
  },
  {
   "cell_type": "code",
   "execution_count": 5,
   "id": "4aa9e57a",
   "metadata": {},
   "outputs": [
    {
     "name": "stdout",
     "output_type": "stream",
     "text": [
      "[13  6 19  7 10  9 18  7  5 18]\n",
      "Maximum : 19\n",
      "Minimum : 5\n",
      "Maximum idx : 2\n",
      "Minimum idx : 8\n"
     ]
    }
   ],
   "source": [
    "# Identify the maximum and minimum values in array B and their indices\n",
    "A=np.random.randint(2,20,10)\n",
    "B=np.random.randint(2,20,10)\n",
    "print(B)\n",
    "print(\"Maximum :\",np.max(B))\n",
    "print(\"Minimum :\",np.min(B))\n",
    "print(\"Maximum idx :\",np.argmax(B))\n",
    "print(\"Minimum idx :\",np.argmin(B))"
   ]
  },
  {
   "cell_type": "markdown",
   "id": "545711a2",
   "metadata": {},
   "source": [
    "Task 4: Reshaping and Transposing\n",
    "1. Create a 1D NumPy array of 12 integers ranging from 1 to 12.\n",
    "2. Write a Python program to:\n",
    "-->Reshape the array into a 2D array of shape (4, 3).\n",
    "-->Reshape the array into a 3D array of shape (2, 2, 3).\n",
    "-->Transpose the reshaped 2D array and display its shape."
   ]
  },
  {
   "cell_type": "code",
   "execution_count": 9,
   "id": "ca9b37d6",
   "metadata": {},
   "outputs": [
    {
     "name": "stdout",
     "output_type": "stream",
     "text": [
      "Original 1D Array:\n",
      "[ 2  3  5  8  7 11  6  9  4  1  1  6]\n",
      "\n",
      "2D Array of Size 4x3:\n",
      "[[ 2  3  5]\n",
      " [ 8  7 11]\n",
      " [ 6  9  4]\n",
      " [ 1  1  6]]\n",
      "\n",
      "3D Array of Size 2x2x3:\n",
      "[[[ 2  3  5]\n",
      "  [ 8  7 11]]\n",
      "\n",
      " [[ 6  9  4]\n",
      "  [ 1  1  6]]]\n",
      "\n",
      "Transpose of 2D Array:\n",
      "[[ 2  8  6  1]\n",
      " [ 3  7  9  1]\n",
      " [ 5 11  4  6]]\n",
      "\n",
      "Shape of Transposed 2D Array:\n",
      "(3, 4)\n"
     ]
    }
   ],
   "source": [
    "import numpy as np\n",
    "\n",
    "l1 = np.random.randint(1, 12, 12)\n",
    "print(\"Original 1D Array:\")\n",
    "print(l1)\n",
    "\n",
    "print(\"\\n2D Array of Size 4x3:\")\n",
    "print(l1.reshape(4, 3))\n",
    "\n",
    "print(\"\\n3D Array of Size 2x2x3:\")\n",
    "print(l1.reshape(2, 2, 3))\n",
    "\n",
    "print(\"\\nTranspose of 2D Array:\")\n",
    "print(np.transpose(l1.reshape(4, 3)))\n",
    "\n",
    "print(\"\\nShape of Transposed 2D Array:\")\n",
    "print(np.transpose(l1.reshape(4, 3)).shape)\n"
   ]
  },
  {
   "cell_type": "markdown",
   "id": "b99a1de0",
   "metadata": {},
   "source": [
    "Task 5: Boolean Masking and Filtering:-\n",
    "\n",
    "1. Create a NumPy array with 15 random integers between 10 and 50.\n",
    "2. Write a Python program to:\n",
    "-->Find all elements greater than 25.\n",
    "-->Replace all elements less than 30 with 0.\n",
    "-->Count the number of elements divisible by 5."
   ]
  },
  {
   "cell_type": "code",
   "execution_count": 10,
   "id": "36cbed6d",
   "metadata": {},
   "outputs": [
    {
     "name": "stdout",
     "output_type": "stream",
     "text": [
      "[12 43 42 19 43 18 47 34 32 20 43 41 20 42 40]\n",
      "Numbers Greater than 25:\n",
      "[43 42 43 47 34 32 43 41 42 40]\n",
      "Replacing all elements less than 30 with 0:\n",
      "[ 0 43 42  0 43  0 47 34 32  0 43 41  0 42 40]\n",
      "Number of non-zero elements divisible by 5:\n",
      "1\n",
      "Total number of elements divisible by 5:\n",
      "6\n"
     ]
    }
   ],
   "source": [
    "import numpy as np\n",
    "\n",
    "l2 = np.random.randint(10, 50, 15)\n",
    "print(l2)\n",
    "\n",
    "print(\"Numbers Greater than 25:\")\n",
    "print(l2[l2 > 25])\n",
    "\n",
    "print(\"Replacing all elements less than 30 with 0:\")\n",
    "l2[l2 < 30] = 0\n",
    "print(l2)\n",
    "\n",
    "print(\"Number of non-zero elements divisible by 5:\")\n",
    "print(np.count_nonzero(l2[l2 % 5 == 0]))\n",
    "\n",
    "print(\"Total number of elements divisible by 5:\")\n",
    "print(np.count_nonzero(l2 % 5 == 0))\n"
   ]
  },
  {
   "cell_type": "markdown",
   "id": "cf4a5c72",
   "metadata": {},
   "source": [
    "Task 6: Working with Built-in Functions:-\n",
    "\n",
    "1. Use NumPy's built-in functions to:\n",
    "-->Create an array of 10 equally spaced values between 0 and 1.\n",
    "-->Create an identity matrix of size 4x4.\n",
    "-->Generate a 1D array of 20 random integers between 1 and 100, sort it, and find the 5 largest elements."
   ]
  },
  {
   "cell_type": "code",
   "execution_count": 11,
   "id": "b1fcbe70",
   "metadata": {},
   "outputs": [
    {
     "name": "stdout",
     "output_type": "stream",
     "text": [
      "Array of 10 equally spaced values between 0 and 1:\n",
      "\n",
      "[0.         0.11111111 0.22222222 0.33333333 0.44444444 0.55555556\n",
      " 0.66666667 0.77777778 0.88888889 1.        ]\n"
     ]
    }
   ],
   "source": [
    "import numpy as np\n",
    "\n",
    "l1 = np.linspace(0, 1, 10)\n",
    "print(\"Array of 10 equally spaced values between 0 and 1:\\n\")\n",
    "print(l1)\n"
   ]
  },
  {
   "cell_type": "code",
   "execution_count": 12,
   "id": "a89f452a",
   "metadata": {},
   "outputs": [
    {
     "name": "stdout",
     "output_type": "stream",
     "text": [
      "[[1 0 0 0]\n",
      " [0 1 0 0]\n",
      " [0 0 1 0]\n",
      " [0 0 0 1]]\n"
     ]
    }
   ],
   "source": [
    "# Create an identity matrix of size 4x4.\n",
    "import numpy as np\n",
    "print(np.eye(4,dtype=\"int\"))"
   ]
  },
  {
   "cell_type": "code",
   "execution_count": 77,
   "id": "d6abe363",
   "metadata": {},
   "outputs": [
    {
     "name": "stdout",
     "output_type": "stream",
     "text": [
      "Original Array :-\n",
      "[90 44 21  1 43 16 12 64 48 33 10 75 63 15 48 44 47 64 58 63]\n",
      "Sorted Array :-\n",
      "[ 1 10 12 15 16 21 33 43 44 44 47 48 48 58 63 63 64 64 75 90]\n",
      "5 largest elements\n",
      "[90 75 64 64 63]\n"
     ]
    }
   ],
   "source": [
    "# Generate a 1D array of 20 random integers between 1 and 100, sort it, and find the 5 largest elements.\n",
    "\n",
    "import numpy as np\n",
    "l3=np.random.randint(1,100,20)\n",
    "print(\"Original Array :-\")\n",
    "print(l3)\n",
    "print(\"Sorted Array :-\")\n",
    "print(np.sort(l3))\n",
    "print(\"5 largest elements\")\n",
    "print(np.sort(l3)[-5:][::-1])"
   ]
  },
  {
   "cell_type": "markdown",
   "id": "e2cfbeb9",
   "metadata": {},
   "source": [
    "Task 7: Generic:-\n",
    "\n",
    "1. Create a Python program that:\n",
    "-->Generates two large random arrays of size (100, 100).\n",
    "-->Performs matrix multiplication on the two arrays.\n",
    "-->Finds the determinant and inverse of the resulting matrix (if possible).\n",
    "-->Measures the time taken to complete these operations."
   ]
  },
  {
   "cell_type": "code",
   "execution_count": 13,
   "id": "79778f07",
   "metadata": {},
   "outputs": [
    {
     "name": "stdout",
     "output_type": "stream",
     "text": [
      "Operation Start time :1752414340.1146615 \n",
      "\n",
      "Matrix multiplication completed.\n",
      "\n",
      "[[28.82432265 24.9077027  24.105488   ... 25.32605882 24.53292793\n",
      "  25.03957562]\n",
      " [29.22827896 26.909049   25.40053007 ... 24.93425135 26.90837035\n",
      "  24.38075666]\n",
      " [29.81268261 25.58480117 25.47037416 ... 27.16724325 26.36240604\n",
      "  25.05030823]\n",
      " ...\n",
      " [29.58187622 27.10769114 25.06662913 ... 25.01497412 23.52483332\n",
      "  24.95272635]\n",
      " [28.73813533 25.08545973 25.13237977 ... 24.74231819 24.22764661\n",
      "  25.61301863]\n",
      " [26.0106899  22.42449126 23.28411581 ... 23.52377361 23.0428638\n",
      "  21.47837486]] \n",
      "\n",
      "Determinant of the result: 7.202465595419879e+49 \n",
      "\n",
      "Operation end time :1752414340.1601465 \n",
      "\n",
      "Matrix is invertible.\n",
      "Inverse matrix calculated successfully.\n",
      "[[-0.19877882 -1.86883537 -1.88653425 ... -1.03477222  3.44450906\n",
      "  -2.50097038]\n",
      " [-0.93214949 -1.48875617 -0.88726987 ... -1.09671465  1.93855582\n",
      "  -1.44226878]\n",
      " [ 0.26060437 -0.31328886 -1.427215   ... -2.50400177  5.41388522\n",
      "  -5.0447201 ]\n",
      " ...\n",
      " [-0.36083237 -0.30247616 -0.03568797 ... -0.13507937  0.8869091\n",
      "  -0.66647557]\n",
      " [-0.43157491  0.41754908  0.19765166 ... -1.59122609  2.07177336\n",
      "  -2.64344525]\n",
      " [ 0.0365341  -2.15891014 -0.82714288 ...  2.1902361  -1.63820593\n",
      "   3.47194479]] \n",
      "\n",
      "Time taken: 0.0455 seconds\n"
     ]
    }
   ],
   "source": [
    "import numpy as np\n",
    "import time\n",
    "\n",
    "# Step 1: Generate two random 100x100 arrays\n",
    "A = np.random.rand(100, 100)\n",
    "B = np.random.rand(100, 100)\n",
    "\n",
    "# Step 2: Start the timer\n",
    "start_time = time.time()\n",
    "print(f\"Operation Start time :{start_time} \\n\")\n",
    "\n",
    "# Step 3: Matrix multiplication\n",
    "C = np.dot(A, B)\n",
    "print(\"Matrix multiplication completed.\\n\")\n",
    "print(C,\"\\n\")\n",
    "\n",
    "\n",
    "# Step 4: Calculate determinant\n",
    "det_C = np.linalg.det(C)\n",
    "print(f\"Determinant of the result: {det_C} \\n\")\n",
    "\n",
    "\n",
    "# Step 5: Try to calculate inverse if determinant is not zero\n",
    "if np.isclose(det_C, 0):\n",
    "    inverse_C = None\n",
    "    invertible = False\n",
    "else:\n",
    "    inverse_C = np.linalg.inv(C)\n",
    "    invertible = True\n",
    "\n",
    "# Step 6: End the timer\n",
    "end_time = time.time()\n",
    "print(f\"Operation end time :{end_time} \\n\")\n",
    "\n",
    "elapsed_time = end_time - start_time\n",
    "\n",
    "# Step 7: Print results\n",
    "print(\"Matrix is invertible.\" if invertible else \"Matrix is not invertible.\")\n",
    "if invertible:\n",
    "    print(\"Inverse matrix calculated successfully.\")\n",
    "    print(inverse_C,\"\\n\")\n",
    "print(f\"Time taken: {elapsed_time:.4f} seconds\")\n"
   ]
  },
  {
   "cell_type": "code",
   "execution_count": null,
   "id": "633b03e2",
   "metadata": {},
   "outputs": [],
   "source": []
  }
 ],
 "metadata": {
  "kernelspec": {
   "display_name": "Python 3",
   "language": "python",
   "name": "python3"
  },
  "language_info": {
   "codemirror_mode": {
    "name": "ipython",
    "version": 3
   },
   "file_extension": ".py",
   "mimetype": "text/x-python",
   "name": "python",
   "nbconvert_exporter": "python",
   "pygments_lexer": "ipython3",
   "version": "3.13.5"
  }
 },
 "nbformat": 4,
 "nbformat_minor": 5
}
